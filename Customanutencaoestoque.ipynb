{
 "cells": [
  {
   "cell_type": "code",
   "execution_count": null,
   "metadata": {},
   "outputs": [],
   "source": [
    "%pip install mysql-connector-python\n",
    "\n",
    "import mysql.connector\n",
    "from random import choice, randint"
   ]
  },
  {
   "cell_type": "code",
   "execution_count": 11,
   "metadata": {},
   "outputs": [],
   "source": [
    "db_config= {\n",
    "    'host': 'localhost',\n",
    "    'user':'root',\n",
    "    'password' :'Root',\n",
    "    'database':'embraer_santos'\n",
    "}\n",
    "\n",
    "# passando os dados para a conexão com o banco"
   ]
  },
  {
   "cell_type": "code",
   "execution_count": 31,
   "metadata": {},
   "outputs": [],
   "source": [
    "conn = mysql.connector.connect(**db_config) #conectando\n",
    "cursor = conn.cursor()\n",
    "\n",
    "# criando a tabela\n",
    "\n",
    "create_table_query = \"\"\"\n",
    "    CREATE TABLE IF NOT EXISTS CustoManutencaoDeEquipamento (\n",
    "        Id INT AUTO_INCREMENT PRIMARY KEY,\n",
    "        Equipamento varchar(100), \n",
    "        Localizacao varchar(50),\n",
    "        TipoDeManutencao varchar(50),\n",
    "        Data varchar(20),\n",
    "        Valor INT,\n",
    "        Fornecedor varchar(100), \n",
    "        LocalFornecedor varchar(100)\n",
    "    );\n",
    "\n",
    "\"\"\"\n",
    "\n",
    "cursor.execute(create_table_query)\n",
    "conn.commit()"
   ]
  },
  {
   "cell_type": "code",
   "execution_count": 1,
   "metadata": {},
   "outputs": [
    {
     "ename": "NameError",
     "evalue": "name 'choice' is not defined",
     "output_type": "error",
     "traceback": [
      "\u001b[1;31m---------------------------------------------------------------------------\u001b[0m",
      "\u001b[1;31mNameError\u001b[0m                                 Traceback (most recent call last)",
      "Cell \u001b[1;32mIn[1], line 11\u001b[0m\n\u001b[0;32m      7\u001b[0m Randomico_LocalForn \u001b[38;5;241m=\u001b[39m [\u001b[38;5;124m'\u001b[39m\u001b[38;5;124mSão Paulo\u001b[39m\u001b[38;5;124m'\u001b[39m, \u001b[38;5;124m'\u001b[39m\u001b[38;5;124mRio De Janeiro\u001b[39m\u001b[38;5;124m'\u001b[39m, \u001b[38;5;124m'\u001b[39m\u001b[38;5;124mFlorianopolis\u001b[39m\u001b[38;5;124m'\u001b[39m,\u001b[38;5;124m'\u001b[39m\u001b[38;5;124mSalvador\u001b[39m\u001b[38;5;124m'\u001b[39m,\u001b[38;5;124m'\u001b[39m\u001b[38;5;124mBelo Horizonte\u001b[39m\u001b[38;5;124m'\u001b[39m,\u001b[38;5;124m'\u001b[39m\u001b[38;5;124mBotucatu\u001b[39m\u001b[38;5;124m'\u001b[39m,\u001b[38;5;124m'\u001b[39m\u001b[38;5;124mGavião Peixoto\u001b[39m\u001b[38;5;124m'\u001b[39m,\u001b[38;5;124m'\u001b[39m\u001b[38;5;124mCampinas\u001b[39m\u001b[38;5;124m'\u001b[39m,\u001b[38;5;124m'\u001b[39m\u001b[38;5;124mSão José dos Campos\u001b[39m\u001b[38;5;124m'\u001b[39m, \u001b[38;5;124m'\u001b[39m\u001b[38;5;124mTaubate\u001b[39m\u001b[38;5;124m'\u001b[39m]\n\u001b[0;32m     10\u001b[0m \u001b[38;5;28;01mfor\u001b[39;00m _ \u001b[38;5;129;01min\u001b[39;00m \u001b[38;5;28mrange\u001b[39m (\u001b[38;5;241m200\u001b[39m):\n\u001b[1;32m---> 11\u001b[0m     Equipamento  \u001b[38;5;241m=\u001b[39m \u001b[43mchoice\u001b[49m(Randomico_Equipamento)\n\u001b[0;32m     12\u001b[0m     Localizacao \u001b[38;5;241m=\u001b[39m choice(Randomico_Local)\n\u001b[0;32m     13\u001b[0m     TipoDeManutencao \u001b[38;5;241m=\u001b[39m choice(Randomico_Manutencao)\n",
      "\u001b[1;31mNameError\u001b[0m: name 'choice' is not defined"
     ]
    }
   ],
   "source": [
    "Randomico_Equipamento = ['Macaco', 'Plataforma', 'Escada', 'Empilhadeira', 'Paleteira', 'Ponte rolante', 'Esteira', 'AGVs', 'Leitores']\n",
    "Randomico_Local = ['Armazém A', 'Armazém B', 'Armazém C','Armazém D']\n",
    "Randomico_Manutencao = ['Corretiva', 'Preditiva', 'Preventiva']\n",
    "Randomico_Data = ['29/03/2022','08/06/2023','29/03/2022','08/06/2023','22/04/2023','16/12/2022','27/11/2023','03/03/2023','29/05/2023','25/05/2023','21/03/2022','14/08/2023','09/07/2022','28/10/2022','08/08/2023','30/01/2023','23/08/2023','02/11/2023','01/02/2022','15/08/2023','14/09/2023','10/07/2022','06/03/2022','22/09/2023','02/06/2023','08/11/2023','04/08/2023','11/06/2023','03/06/2023','20/12/2022','27/05/2023','17/02/2023','29/06/2022','04/08/2022','18/03/2023','05/03/2022','25/02/2023','13/11/2022','05/03/2022','11/10/2023','19/08/2023','03/06/2022','13/04/2023','25/11/2023','19/02/2023','16/01/2022','23/01/2022','26/05/2022','07/09/2022','16/07/2023','22/01/2022','13/09/2023','24/08/2022','04/03/2022','03/10/2022','26/04/2022','25/12/2022','01/05/2023','11/08/2022','03/03/2023','19/01/2022','16/08/2023','28/09/2022','30/07/2023','31/01/2023','09/03/2023','29/07/2022','27/06/2023','30/11/2023','21/11/2023','04/07/2023','13/07/2022','11/10/2023','09/05/2022','16/08/2022','05/04/2022','04/09/2023','19/07/2022','23/10/2022','19/08/2022','19/02/2023','20/02/2022','06/01/2023','05/12/2022','09/11/2023','09/10/2022','08/12/2023','01/09/2023','06/04/2023','18/06/2023','15/09/2023','03/11/2022','29/09/2022','16/06/2022','30/05/2023','14/11/2023','28/03/2022','01/02/2023','03/05/2022','19/04/2022','06/08/2023','05/11/2022','24/05/2022','04/06/2023','19/06/2023','04/12/2022','02/12/2023','30/07/2022','07/04/2022','14/01/2023','05/03/2022','02/07/2023','20/08/2023','25/01/2023','16/04/2022','01/08/2023','23/08/2022','06/12/2022','06/11/2023','03/07/2023','07/11/2022','07/01/2022','09/12/2023','24/06/2022','21/04/2023','13/03/2022','10/03/2022','15/04/2022','12/04/2022','09/02/2023','10/08/2022','21/05/2023','02/05/2023','23/08/2023','16/08/2022','16/02/2023','04/01/2023','09/05/2023','20/02/2023','12/05/2022','11/08/2022','30/06/2023','19/11/2023','20/04/2023','14/04/2022','15/10/2022','24/08/2022','17/08/2023','24/12/2022','12/08/2022','03/09/2023','19/04/2022','03/01/2022','06/08/2022','16/12/2022','07/02/2023','23/11/2023','06/10/2022','23/08/2022','29/08/2022','02/02/2022','12/10/2023','26/01/2023','03/08/2022','07/11/2023','25/06/2023','01/02/2023','05/01/2022','15/03/2023','27/11/2023','31/01/2022','10/08/2022','25/05/2022','04/03/2023','01/02/2023','28/03/2022','31/07/2022','22/01/2022','09/12/2022','30/07/2022','03/09/2023','22/02/2023','04/07/2023','04/05/2023','24/05/2023','12/07/2023','27/08/2023','13/04/2023','16/07/2022','19/09/2023','21/03/2022','27/10/2023','21/09/2023','28/03/2023','12/12/2022','05/09/2022','26/04/2023','28/06/2023','31/01/2023','31/10/2022','18/03/2023','13/08/2022',]\n",
    "Randomico_Valor = [None]\n",
    "Randomico_Fornecedor = ['Manutenção SA', 'Doutor Equipamentos', 'EquipaMais', 'Tools SA', 'Tech Center', 'Conal','EmbySeven','EquipaCenter']\n",
    "Randomico_LocalForn = ['São Paulo', 'Rio De Janeiro', 'Florianopolis','Salvador','Belo Horizonte','Botucatu','Gavião Peixoto','Campinas','São José dos Campos', 'Taubate']\n",
    "\n",
    "\n",
    "for _ in range (200):\n",
    "    Equipamento  = choice(Randomico_Equipamento)\n",
    "    Localizacao = choice(Randomico_Local)\n",
    "    TipoDeManutencao = choice(Randomico_Manutencao)\n",
    "    Data = choice(Randomico_Data)\n",
    "    Valor = choice(Randomico_Valor)\n",
    "    Fornecedor = choice(Randomico_Fornecedor)\n",
    "    LocalFornecedor = choice(Randomico_LocalForn)\n",
    "\n",
    "    insert_query = \"INSERT INTO CustoManutencaoDeEquipamento (Equipamento, Localizacao, TipoDeManutencao, Data, Valor, Fornecedor, LocalFornecedor) VALUES(%s, %s, %s, %s, %s, %s, %s)\"\n",
    "    data = (Equipamento, Localizacao, TipoDeManutencao, Data, Valor, Fornecedor, LocalFornecedor)\n",
    "    cursor.execute(insert_query,data)\n",
    "\n",
    "conn.commit()\n",
    "cursor.close()\n",
    "conn.close()\n"
   ]
  }
 ],
 "metadata": {
  "kernelspec": {
   "display_name": "Python 3",
   "language": "python",
   "name": "python3"
  },
  "language_info": {
   "codemirror_mode": {
    "name": "ipython",
    "version": 3
   },
   "file_extension": ".py",
   "mimetype": "text/x-python",
   "name": "python",
   "nbconvert_exporter": "python",
   "pygments_lexer": "ipython3",
   "version": "3.12.0"
  }
 },
 "nbformat": 4,
 "nbformat_minor": 2
}
