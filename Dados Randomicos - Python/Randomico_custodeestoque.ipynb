{
 "cells": [
  {
   "cell_type": "code",
   "execution_count": 4,
   "metadata": {},
   "outputs": [
    {
     "name": "stdout",
     "output_type": "stream",
     "text": [
      "Requirement already satisfied: mysql-connector-python in c:\\users\\nay_a\\appdata\\local\\programs\\python\\python312\\lib\\site-packages (8.2.0)\n",
      "Requirement already satisfied: protobuf<=4.21.12,>=4.21.1 in c:\\users\\nay_a\\appdata\\local\\programs\\python\\python312\\lib\\site-packages (from mysql-connector-python) (4.21.12)\n",
      "Note: you may need to restart the kernel to use updated packages.\n"
     ]
    },
    {
     "name": "stderr",
     "output_type": "stream",
     "text": [
      "\n",
      "[notice] A new release of pip is available: 23.2.1 -> 23.3.2\n",
      "[notice] To update, run: python.exe -m pip install --upgrade pip\n"
     ]
    }
   ],
   "source": [
    "%pip install mysql-connector-python\n",
    "\n",
    "import mysql.connector\n",
    "from random import choice, randint\n",
    "\n",
    "db_config= {\n",
    "    'host': 'localhost',\n",
    "    'user':'root',\n",
    "    'password' :'Root',\n",
    "    'database':'projetofinal'\n",
    "}\n",
    "\n",
    "conn = mysql.connector.connect(**db_config) #conectando\n",
    "cursor = conn.cursor()"
   ]
  },
  {
   "cell_type": "code",
   "execution_count": 5,
   "metadata": {},
   "outputs": [],
   "source": [
    "create_table_query = \"\"\"\n",
    "    CREATE TABLE IF NOT EXISTS basecustodeestoque (\n",
    "        Id INT AUTO_INCREMENT PRIMARY KEY,\n",
    "        Custo varchar(100),\n",
    "        Codigo varchar(50),\n",
    "        Quantidade INT,\n",
    "        Localizacao varchar(50),\n",
    "        Data varchar(20),\n",
    "        ValorUnitario INT\n",
    "    );\n",
    "\n",
    "\"\"\"\n",
    "\n",
    "cursor.execute(create_table_query)\n",
    "conn.commit()"
   ]
  },
  {
   "cell_type": "code",
   "execution_count": 6,
   "metadata": {},
   "outputs": [],
   "source": [
    "Randomico_Custo = ['Deslocamento Medio', 'Recebimento', 'Estocagem', 'Preparacao', 'Expedicao', 'Mao de Obra']\n",
    "Randomico_Codigo = [None]\n",
    "Randomico_Quantidade = ['10', '20', '30', '2', '1']\n",
    "Randomico_Local = ['Armazém A', 'Armazém B', 'Armazém C','Armazém D']\n",
    "Randomico_Data = ['29/03/2023','08/06/2022','29/03/2023','08/06/2022','22/04/2022','16/12/2023','27/11/2022','03/03/2022','29/05/2022','25/05/2022','21/03/2023','14/08/2022','09/07/2023','28/10/2022','08/08/2022','30/01/2022','23/08/2022','02/11/2022','01/02/2023','15/08/2022','14/09/2022','10/07/2023']\n",
    "Randomico_ValorUnitario = [None]\n",
    "\n",
    "    \n",
    "for _ in range (200):\n",
    "    Custo = choice(Randomico_Custo)\n",
    "    Codigo = choice(Randomico_Codigo)\n",
    "    Quantidade = choice(Randomico_Quantidade)\n",
    "    Localizacao = choice(Randomico_Local)\n",
    "    Data = choice(Randomico_Data)\n",
    "    ValorUnitario = choice(Randomico_ValorUnitario)\n",
    "\n",
    "    insert_query = \"INSERT INTO basecustodeestoque (Custo, Codigo, Quantidade, Localizacao, Data, ValorUnitario) VALUES(%s, %s, %s, %s, %s, %s)\"\n",
    "    data = (Custo, Codigo, Quantidade, Localizacao, Data, ValorUnitario)\n",
    "    cursor.execute(insert_query,data)\n",
    "\n",
    "conn.commit()\n",
    "cursor.close()\n",
    "conn.close()"
   ]
  }
 ],
 "metadata": {
  "kernelspec": {
   "display_name": "Python 3",
   "language": "python",
   "name": "python3"
  },
  "language_info": {
   "codemirror_mode": {
    "name": "ipython",
    "version": 3
   },
   "file_extension": ".py",
   "mimetype": "text/x-python",
   "name": "python",
   "nbconvert_exporter": "python",
   "pygments_lexer": "ipython3",
   "version": "3.12.0"
  }
 },
 "nbformat": 4,
 "nbformat_minor": 2
}
