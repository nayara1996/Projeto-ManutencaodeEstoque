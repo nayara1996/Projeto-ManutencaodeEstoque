{
 "cells": [
  {
   "cell_type": "code",
   "execution_count": 9,
   "metadata": {},
   "outputs": [
    {
     "name": "stdout",
     "output_type": "stream",
     "text": [
      "Requirement already satisfied: mysql-connector-python in c:\\users\\nay_a\\appdata\\local\\programs\\python\\python312\\lib\\site-packages (8.2.0)\n",
      "Requirement already satisfied: protobuf<=4.21.12,>=4.21.1 in c:\\users\\nay_a\\appdata\\local\\programs\\python\\python312\\lib\\site-packages (from mysql-connector-python) (4.21.12)\n",
      "Note: you may need to restart the kernel to use updated packages.\n"
     ]
    },
    {
     "name": "stderr",
     "output_type": "stream",
     "text": [
      "\n",
      "[notice] A new release of pip is available: 23.2.1 -> 23.3.2\n",
      "[notice] To update, run: python.exe -m pip install --upgrade pip\n"
     ]
    }
   ],
   "source": [
    "%pip install mysql-connector-python\n",
    "\n",
    "import mysql.connector\n",
    "from random import choice, randint"
   ]
  },
  {
   "cell_type": "code",
   "execution_count": 10,
   "metadata": {},
   "outputs": [],
   "source": [
    "db_config= {\n",
    "    'host': 'localhost',\n",
    "    'user':'root',\n",
    "    'password' :'Root',\n",
    "    'database':'projetofinal'\n",
    "}\n",
    "\n",
    "# passando os dados para a conexão com o banco"
   ]
  },
  {
   "cell_type": "code",
   "execution_count": 11,
   "metadata": {},
   "outputs": [],
   "source": [
    "conn = mysql.connector.connect(**db_config) #conectando\n",
    "cursor = conn.cursor()\n",
    "\n",
    "# criando a tabela\n",
    "\n",
    "create_table_query = \"\"\"\n",
    "    CREATE TABLE IF NOT EXISTS basecustomateriaprima (\n",
    "        Codigo varchar(50),\n",
    "        Id INT AUTO_INCREMENT PRIMARY KEY,\n",
    "        MateriaPrima varchar(100), \n",
    "        Quantidade INT,\n",
    "        Localizacao varchar(50),\n",
    "        Situacao varchar(50),\n",
    "        Data varchar(20),\n",
    "        ValorUnit INT,\n",
    "        Medida varchar(50)\n",
    "    );\n",
    "\n",
    "\"\"\"\n",
    "\n",
    "cursor.execute(create_table_query)\n",
    "conn.commit()"
   ]
  },
  {
   "cell_type": "code",
   "execution_count": 14,
   "metadata": {},
   "outputs": [],
   "source": [
    "conn = mysql.connector.connect(**db_config) #conectando\n",
    "cursor = conn.cursor()\n",
    "\n",
    "Randomico_MateriaPrima = ['Liga de Aluminio 7075', 'Liga de Aço', 'Liga de titânio', 'Fibra de vidro ', 'fibra de carbono', 'Resina Epoxi', 'Tecido Kevlar', 'Espuma', 'HoneyKomb']\n",
    "Randomico_Quantidade = [50, 100, 150, 200, 250, 300, 350, 400, 450, 500]\n",
    "Randomico_Localizacao = ['Armazém A', 'Armazém B', 'Armazém C', 'Armazém D']\n",
    "Randomico_Situacao = ['Disponível', 'Em processo', 'Obsoleto', 'Depreciado']\n",
    "Randomico_Data = ['29/03/2022','08/06/2023','29/03/2022','08/06/2023','22/04/2023','16/12/2022','27/11/2023','03/03/2023','29/05/2023','25/05/2023','21/03/2022','14/08/2023','09/07/2022','28/10/2022','08/08/2023','30/01/2023','23/08/2023','02/11/2023','01/02/2022','15/08/2023','14/09/2023','10/07/2022','06/03/2022','22/09/2023','02/06/2023','08/11/2023','04/08/2023','11/06/2023','03/06/2023','20/12/2022','27/05/2023','17/02/2023','29/06/2022','04/08/2022','18/03/2023','05/03/2022','25/02/2023','13/11/2022','05/03/2022','11/10/2023','19/08/2023','03/06/2022','13/04/2023','25/11/2023','19/02/2023','16/01/2022','23/01/2022','26/05/2022','07/09/2022','16/07/2023','22/01/2022','13/09/2023','24/08/2022','04/03/2022','03/10/2022','26/04/2022','25/12/2022','01/05/2023','11/08/2022','03/03/2023','19/01/2022','16/08/2023','28/09/2022','30/07/2023','31/01/2023','09/03/2023','29/07/2022','27/06/2023','30/11/2023','21/11/2023','04/07/2023','13/07/2022','11/10/2023','09/05/2022','16/08/2022','05/04/2022','04/09/2023','19/07/2022','23/10/2022','19/08/2022','19/02/2023','20/02/2022','06/01/2023','05/12/2022','09/11/2023','09/10/2022','08/12/2023','01/09/2023','06/04/2023','18/06/2023','15/09/2023','03/11/2022','29/09/2022','16/06/2022','30/05/2023','14/11/2023','28/03/2022','01/02/2023','03/05/2022','19/04/2022','06/08/2023','05/11/2022','24/05/2022','04/06/2023','19/06/2023','04/12/2022','02/12/2023','30/07/2022','07/04/2022','14/01/2023','05/03/2022','02/07/2023','20/08/2023','25/01/2023','16/04/2022','01/08/2023','23/08/2022','06/12/2022','06/11/2023','03/07/2023','07/11/2022','07/01/2022','09/12/2023','24/06/2022','21/04/2023','13/03/2022','10/03/2022','15/04/2022','12/04/2022','09/02/2023','10/08/2022','21/05/2023','02/05/2023','23/08/2023','16/08/2022','16/02/2023','04/01/2023','09/05/2023','20/02/2023','12/05/2022','11/08/2022','30/06/2023','19/11/2023','20/04/2023','14/04/2022','15/10/2022','24/08/2022','17/08/2023','24/12/2022','12/08/2022','03/09/2023','19/04/2022','03/01/2022','06/08/2022','16/12/2022','07/02/2023','23/11/2023','06/10/2022','23/08/2022','29/08/2022','02/02/2022','12/10/2023','26/01/2023','03/08/2022','07/11/2023','25/06/2023','01/02/2023','05/01/2022','15/03/2023','27/11/2023','31/01/2022','10/08/2022','25/05/2022','04/03/2023','01/02/2023','28/03/2022','31/07/2022','22/01/2022','09/12/2022','30/07/2022','03/09/2023','22/02/2023','04/07/2023','04/05/2023','24/05/2023','12/07/2023','27/08/2023','13/04/2023','16/07/2022','19/09/2023','21/03/2022','27/10/2023','21/09/2023','28/03/2023','12/12/2022','05/09/2022','26/04/2023','28/06/2023','31/01/2023','31/10/2022','18/03/2023','13/08/2022']\n",
    "Randomico_ValorUnit = [None]\n",
    "Randomico_Medida =['Bloco', 'Metros', 'Kilos', 'Unidade']\n",
    "\n",
    "\n",
    "for _ in range (200):\n",
    "    MateriaPrima  = choice(Randomico_MateriaPrima)\n",
    "    Quantidade = choice(Randomico_Quantidade)\n",
    "    Localizacao = choice(Randomico_Localizacao)\n",
    "    Situacao = choice(Randomico_Situacao)\n",
    "    Data = choice(Randomico_Data)\n",
    "    ValorUnit = choice(Randomico_ValorUnit)\n",
    "    Medida = choice(Randomico_Medida)\n",
    "\n",
    "    insert_query = \"INSERT INTO basecustomateriaprima (MateriaPrima, Quantidade, Localizacao, Situacao, Data, ValorUnit, Medida) VALUES (%s, %s, %s, %s, %s, %s, %s)\"\n",
    "    data = (MateriaPrima, Quantidade, Localizacao, Situacao, Data, ValorUnit, Medida)\n",
    "    cursor.execute(insert_query,data)\n",
    "\n",
    "conn.commit()\n",
    "cursor.close()\n",
    "conn.close()\n"
   ]
  }
 ],
 "metadata": {
  "kernelspec": {
   "display_name": "Python 3",
   "language": "python",
   "name": "python3"
  },
  "language_info": {
   "codemirror_mode": {
    "name": "ipython",
    "version": 3
   },
   "file_extension": ".py",
   "mimetype": "text/x-python",
   "name": "python",
   "nbconvert_exporter": "python",
   "pygments_lexer": "ipython3",
   "version": "3.12.0"
  }
 },
 "nbformat": 4,
 "nbformat_minor": 2
}
