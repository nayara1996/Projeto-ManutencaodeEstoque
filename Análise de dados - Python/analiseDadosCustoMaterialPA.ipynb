{
 "cells": [
  {
   "cell_type": "code",
   "execution_count": 3,
   "metadata": {},
   "outputs": [
    {
     "name": "stdout",
     "output_type": "stream",
     "text": [
      "Requirement already satisfied: requests in c:\\users\\nay_a\\appdata\\local\\programs\\python\\python312\\lib\\site-packages (2.31.0)\n",
      "Requirement already satisfied: charset-normalizer<4,>=2 in c:\\users\\nay_a\\appdata\\local\\programs\\python\\python312\\lib\\site-packages (from requests) (3.3.2)\n",
      "Requirement already satisfied: idna<4,>=2.5 in c:\\users\\nay_a\\appdata\\local\\programs\\python\\python312\\lib\\site-packages (from requests) (3.6)\n",
      "Requirement already satisfied: urllib3<3,>=1.21.1 in c:\\users\\nay_a\\appdata\\local\\programs\\python\\python312\\lib\\site-packages (from requests) (2.1.0)\n",
      "Requirement already satisfied: certifi>=2017.4.17 in c:\\users\\nay_a\\appdata\\local\\programs\\python\\python312\\lib\\site-packages (from requests) (2023.11.17)\n",
      "Note: you may need to restart the kernel to use updated packages.\n"
     ]
    },
    {
     "name": "stderr",
     "output_type": "stream",
     "text": [
      "\n",
      "[notice] A new release of pip is available: 23.2.1 -> 23.3.2\n",
      "[notice] To update, run: python.exe -m pip install --upgrade pip\n"
     ]
    }
   ],
   "source": [
    "import matplotlib.pyplot as plt\n",
    "import pandas as pd\n",
    "%pip install requests"
   ]
  },
  {
   "cell_type": "code",
   "execution_count": 4,
   "metadata": {},
   "outputs": [
    {
     "name": "stdout",
     "output_type": "stream",
     "text": [
      "Primeiras linhas da base de Custo De Capital PA: \n",
      "   Id               Produto Codigo  Quantidade Localizacao    Situacao  \\\n",
      "0   1                  E190  AE190           1   Armazém D    Obsoleto   \n",
      "1   2  EMB 314 Super Tucano  AE314           1   Armazém C  Disponível   \n",
      "2   3           Preator 600  AE600           1   Armazém B    Obsoleto   \n",
      "3   4  EMB 314 Super Tucano  AE314           1   Armazém C  Disponível   \n",
      "4   5                  E195  AE195           1   Armazém B    Obsoleto   \n",
      "\n",
      "         Data     Valor  \n",
      "0  25/05/2022  55300000  \n",
      "1  10/07/2023  28500000  \n",
      "2  09/07/2023  49900000  \n",
      "3  01/02/2023  28500000  \n",
      "4  10/07/2023  58500000  \n"
     ]
    }
   ],
   "source": [
    "# Especifique o caminho do arquivo CSV disponível no computador\n",
    "arquivoCustoCapitalPA = 'C:\\\\Users\\\\NAY_A\\\\OneDrive\\\\Documentos\\\\Cursos\\\\Aula Python\\\\Python\\\\aula1\\\\Projeto-ManutencaodeEstoque\\\\Base Banco - CSV\\\\baseCustodeCapitalPA.csv'\n",
    "\n",
    "try:\n",
    "    # lendo o arquivo CSV usando o pandas\n",
    "    df = pd.read_csv(arquivoCustoCapitalPA)\n",
    "\n",
    "    print(\"Primeiras linhas da base de Custo De Capital PA: \")\n",
    "    print(df.head())\n",
    "except FileNotFoundError:\n",
    "    print(f\"Arquivo CSV não encontrado no caminho especificado.\")\n",
    "except pd.errors.EmptyDataError:\n",
    "    print(\"O arquivo CSV está vazio.\")\n",
    "except pd.errors.ParserError as error:\n",
    "    print(f\"Erro ao analisar o arquivo CSV: {error}\")"
   ]
  },
  {
   "cell_type": "code",
   "execution_count": 5,
   "metadata": {},
   "outputs": [
    {
     "data": {
      "text/html": [
       "<div>\n",
       "<style scoped>\n",
       "    .dataframe tbody tr th:only-of-type {\n",
       "        vertical-align: middle;\n",
       "    }\n",
       "\n",
       "    .dataframe tbody tr th {\n",
       "        vertical-align: top;\n",
       "    }\n",
       "\n",
       "    .dataframe thead th {\n",
       "        text-align: right;\n",
       "    }\n",
       "</style>\n",
       "<table border=\"1\" class=\"dataframe\">\n",
       "  <thead>\n",
       "    <tr style=\"text-align: right;\">\n",
       "      <th></th>\n",
       "      <th>Id</th>\n",
       "      <th>Quantidade</th>\n",
       "      <th>Valor</th>\n",
       "    </tr>\n",
       "  </thead>\n",
       "  <tbody>\n",
       "    <tr>\n",
       "      <th>count</th>\n",
       "      <td>200.000000</td>\n",
       "      <td>200.000000</td>\n",
       "      <td>2.000000e+02</td>\n",
       "    </tr>\n",
       "    <tr>\n",
       "      <th>mean</th>\n",
       "      <td>100.500000</td>\n",
       "      <td>7.385000</td>\n",
       "      <td>4.455900e+07</td>\n",
       "    </tr>\n",
       "    <tr>\n",
       "      <th>std</th>\n",
       "      <td>57.879185</td>\n",
       "      <td>10.390698</td>\n",
       "      <td>9.251786e+06</td>\n",
       "    </tr>\n",
       "    <tr>\n",
       "      <th>min</th>\n",
       "      <td>1.000000</td>\n",
       "      <td>1.000000</td>\n",
       "      <td>2.850000e+07</td>\n",
       "    </tr>\n",
       "    <tr>\n",
       "      <th>25%</th>\n",
       "      <td>50.750000</td>\n",
       "      <td>1.000000</td>\n",
       "      <td>3.785000e+07</td>\n",
       "    </tr>\n",
       "    <tr>\n",
       "      <th>50%</th>\n",
       "      <td>100.500000</td>\n",
       "      <td>1.000000</td>\n",
       "      <td>4.630000e+07</td>\n",
       "    </tr>\n",
       "    <tr>\n",
       "      <th>75%</th>\n",
       "      <td>150.250000</td>\n",
       "      <td>10.000000</td>\n",
       "      <td>4.990000e+07</td>\n",
       "    </tr>\n",
       "    <tr>\n",
       "      <th>max</th>\n",
       "      <td>200.000000</td>\n",
       "      <td>30.000000</td>\n",
       "      <td>5.850000e+07</td>\n",
       "    </tr>\n",
       "  </tbody>\n",
       "</table>\n",
       "</div>"
      ],
      "text/plain": [
       "               Id  Quantidade         Valor\n",
       "count  200.000000  200.000000  2.000000e+02\n",
       "mean   100.500000    7.385000  4.455900e+07\n",
       "std     57.879185   10.390698  9.251786e+06\n",
       "min      1.000000    1.000000  2.850000e+07\n",
       "25%     50.750000    1.000000  3.785000e+07\n",
       "50%    100.500000    1.000000  4.630000e+07\n",
       "75%    150.250000   10.000000  4.990000e+07\n",
       "max    200.000000   30.000000  5.850000e+07"
      ]
     },
     "execution_count": 5,
     "metadata": {},
     "output_type": "execute_result"
    }
   ],
   "source": [
    "# estatistica e big numbers\n",
    "df.describe() #estatistica pronta sobre o arquivo"
   ]
  },
  {
   "cell_type": "code",
   "execution_count": 6,
   "metadata": {},
   "outputs": [
    {
     "data": {
      "text/plain": [
       "(200, 8)"
      ]
     },
     "execution_count": 6,
     "metadata": {},
     "output_type": "execute_result"
    }
   ],
   "source": [
    "df.shape #imprime a quantidade de linhas e colunas"
   ]
  },
  {
   "cell_type": "code",
   "execution_count": 7,
   "metadata": {},
   "outputs": [
    {
     "data": {
      "text/plain": [
       "Id              int64\n",
       "Produto        object\n",
       "Codigo         object\n",
       "Quantidade      int64\n",
       "Localizacao    object\n",
       "Situacao       object\n",
       "Data           object\n",
       "Valor           int64\n",
       "dtype: object"
      ]
     },
     "execution_count": 7,
     "metadata": {},
     "output_type": "execute_result"
    }
   ],
   "source": [
    "df.dtypes #imprime os nomes de colunas e tipo de dados"
   ]
  },
  {
   "cell_type": "code",
   "execution_count": 8,
   "metadata": {},
   "outputs": [
    {
     "data": {
      "text/plain": [
       "array(['Obsoleto', 'Disponível', 'Avariado', 'Em Produção'], dtype=object)"
      ]
     },
     "execution_count": 8,
     "metadata": {},
     "output_type": "execute_result"
    }
   ],
   "source": [
    "df.Situacao.unique() #filtrar por Situações unicas"
   ]
  },
  {
   "cell_type": "code",
   "execution_count": 9,
   "metadata": {},
   "outputs": [
    {
     "data": {
      "text/plain": [
       "array(['E190', 'EMB 314 Super Tucano', 'Preator 600', 'E195', 'KC390',\n",
       "       'Legacy 600', 'Phenom 100', 'ERJ 145XR', 'EMB 145 AEW&C'],\n",
       "      dtype=object)"
      ]
     },
     "execution_count": 9,
     "metadata": {},
     "output_type": "execute_result"
    }
   ],
   "source": [
    "df.Produto.unique() #filtrar por produtos unicos"
   ]
  },
  {
   "cell_type": "code",
   "execution_count": 10,
   "metadata": {},
   "outputs": [
    {
     "data": {
      "text/plain": [
       "28500000"
      ]
     },
     "execution_count": 10,
     "metadata": {},
     "output_type": "execute_result"
    }
   ],
   "source": [
    "df.Valor.min() #menor valor da coluna"
   ]
  },
  {
   "cell_type": "code",
   "execution_count": 11,
   "metadata": {},
   "outputs": [
    {
     "data": {
      "text/plain": [
       "58500000"
      ]
     },
     "execution_count": 11,
     "metadata": {},
     "output_type": "execute_result"
    }
   ],
   "source": [
    "df.Valor.max() # pega o maior valor da coluna"
   ]
  },
  {
   "cell_type": "code",
   "execution_count": 12,
   "metadata": {},
   "outputs": [
    {
     "data": {
      "text/plain": [
       "44559000.0"
      ]
     },
     "execution_count": 12,
     "metadata": {},
     "output_type": "execute_result"
    }
   ],
   "source": [
    "df.Valor.mean() # pega a media valor da coluna"
   ]
  },
  {
   "cell_type": "code",
   "execution_count": 13,
   "metadata": {},
   "outputs": [
    {
     "data": {
      "text/plain": [
       "0    38500000\n",
       "1    46300000\n",
       "Name: Valor, dtype: int64"
      ]
     },
     "execution_count": 13,
     "metadata": {},
     "output_type": "execute_result"
    }
   ],
   "source": [
    "df.Valor.mode() # pega o valor mais comum da coluna"
   ]
  },
  {
   "cell_type": "code",
   "execution_count": 14,
   "metadata": {},
   "outputs": [
    {
     "data": {
      "text/html": [
       "<div>\n",
       "<style scoped>\n",
       "    .dataframe tbody tr th:only-of-type {\n",
       "        vertical-align: middle;\n",
       "    }\n",
       "\n",
       "    .dataframe tbody tr th {\n",
       "        vertical-align: top;\n",
       "    }\n",
       "\n",
       "    .dataframe thead th {\n",
       "        text-align: right;\n",
       "    }\n",
       "</style>\n",
       "<table border=\"1\" class=\"dataframe\">\n",
       "  <thead>\n",
       "    <tr style=\"text-align: right;\">\n",
       "      <th></th>\n",
       "      <th>Id</th>\n",
       "      <th>Produto</th>\n",
       "      <th>Codigo</th>\n",
       "      <th>Quantidade</th>\n",
       "      <th>Localizacao</th>\n",
       "      <th>Situacao</th>\n",
       "      <th>Data</th>\n",
       "      <th>Valor</th>\n",
       "    </tr>\n",
       "  </thead>\n",
       "  <tbody>\n",
       "    <tr>\n",
       "      <th>177</th>\n",
       "      <td>178</td>\n",
       "      <td>Preator 600</td>\n",
       "      <td>AE600</td>\n",
       "      <td>1</td>\n",
       "      <td>Armazém C</td>\n",
       "      <td>Avariado</td>\n",
       "      <td>03/03/2022</td>\n",
       "      <td>49900000</td>\n",
       "    </tr>\n",
       "    <tr>\n",
       "      <th>104</th>\n",
       "      <td>105</td>\n",
       "      <td>Preator 600</td>\n",
       "      <td>AE600</td>\n",
       "      <td>30</td>\n",
       "      <td>Armazém D</td>\n",
       "      <td>Disponível</td>\n",
       "      <td>14/09/2022</td>\n",
       "      <td>49900000</td>\n",
       "    </tr>\n",
       "    <tr>\n",
       "      <th>124</th>\n",
       "      <td>125</td>\n",
       "      <td>Legacy 600</td>\n",
       "      <td>AE600</td>\n",
       "      <td>1</td>\n",
       "      <td>Armazém D</td>\n",
       "      <td>Avariado</td>\n",
       "      <td>22/04/2022</td>\n",
       "      <td>47700000</td>\n",
       "    </tr>\n",
       "    <tr>\n",
       "      <th>59</th>\n",
       "      <td>60</td>\n",
       "      <td>Legacy 600</td>\n",
       "      <td>AE600</td>\n",
       "      <td>1</td>\n",
       "      <td>Armazém A</td>\n",
       "      <td>Em Produção</td>\n",
       "      <td>08/06/2022</td>\n",
       "      <td>47700000</td>\n",
       "    </tr>\n",
       "    <tr>\n",
       "      <th>27</th>\n",
       "      <td>28</td>\n",
       "      <td>Legacy 600</td>\n",
       "      <td>AE600</td>\n",
       "      <td>2</td>\n",
       "      <td>Armazém D</td>\n",
       "      <td>Disponível</td>\n",
       "      <td>29/03/2023</td>\n",
       "      <td>47700000</td>\n",
       "    </tr>\n",
       "    <tr>\n",
       "      <th>...</th>\n",
       "      <td>...</td>\n",
       "      <td>...</td>\n",
       "      <td>...</td>\n",
       "      <td>...</td>\n",
       "      <td>...</td>\n",
       "      <td>...</td>\n",
       "      <td>...</td>\n",
       "      <td>...</td>\n",
       "    </tr>\n",
       "    <tr>\n",
       "      <th>43</th>\n",
       "      <td>44</td>\n",
       "      <td>Phenom 100</td>\n",
       "      <td>AE100</td>\n",
       "      <td>1</td>\n",
       "      <td>Armazém C</td>\n",
       "      <td>Avariado</td>\n",
       "      <td>10/07/2023</td>\n",
       "      <td>37850000</td>\n",
       "    </tr>\n",
       "    <tr>\n",
       "      <th>152</th>\n",
       "      <td>153</td>\n",
       "      <td>Phenom 100</td>\n",
       "      <td>AE100</td>\n",
       "      <td>2</td>\n",
       "      <td>Armazém A</td>\n",
       "      <td>Disponível</td>\n",
       "      <td>23/08/2022</td>\n",
       "      <td>37850000</td>\n",
       "    </tr>\n",
       "    <tr>\n",
       "      <th>154</th>\n",
       "      <td>155</td>\n",
       "      <td>Phenom 100</td>\n",
       "      <td>AE100</td>\n",
       "      <td>1</td>\n",
       "      <td>Armazém A</td>\n",
       "      <td>Avariado</td>\n",
       "      <td>16/12/2023</td>\n",
       "      <td>37850000</td>\n",
       "    </tr>\n",
       "    <tr>\n",
       "      <th>166</th>\n",
       "      <td>167</td>\n",
       "      <td>Phenom 100</td>\n",
       "      <td>AE100</td>\n",
       "      <td>1</td>\n",
       "      <td>Armazém D</td>\n",
       "      <td>Avariado</td>\n",
       "      <td>08/06/2022</td>\n",
       "      <td>37850000</td>\n",
       "    </tr>\n",
       "    <tr>\n",
       "      <th>116</th>\n",
       "      <td>117</td>\n",
       "      <td>Phenom 100</td>\n",
       "      <td>AE100</td>\n",
       "      <td>20</td>\n",
       "      <td>Armazém D</td>\n",
       "      <td>Em Produção</td>\n",
       "      <td>29/03/2023</td>\n",
       "      <td>37850000</td>\n",
       "    </tr>\n",
       "  </tbody>\n",
       "</table>\n",
       "<p>200 rows × 8 columns</p>\n",
       "</div>"
      ],
      "text/plain": [
       "      Id      Produto Codigo  Quantidade Localizacao     Situacao        Data  \\\n",
       "177  178  Preator 600  AE600           1   Armazém C     Avariado  03/03/2022   \n",
       "104  105  Preator 600  AE600          30   Armazém D   Disponível  14/09/2022   \n",
       "124  125   Legacy 600  AE600           1   Armazém D     Avariado  22/04/2022   \n",
       "59    60   Legacy 600  AE600           1   Armazém A  Em Produção  08/06/2022   \n",
       "27    28   Legacy 600  AE600           2   Armazém D   Disponível  29/03/2023   \n",
       "..   ...          ...    ...         ...         ...          ...         ...   \n",
       "43    44   Phenom 100  AE100           1   Armazém C     Avariado  10/07/2023   \n",
       "152  153   Phenom 100  AE100           2   Armazém A   Disponível  23/08/2022   \n",
       "154  155   Phenom 100  AE100           1   Armazém A     Avariado  16/12/2023   \n",
       "166  167   Phenom 100  AE100           1   Armazém D     Avariado  08/06/2022   \n",
       "116  117   Phenom 100  AE100          20   Armazém D  Em Produção  29/03/2023   \n",
       "\n",
       "        Valor  \n",
       "177  49900000  \n",
       "104  49900000  \n",
       "124  47700000  \n",
       "59   47700000  \n",
       "27   47700000  \n",
       "..        ...  \n",
       "43   37850000  \n",
       "152  37850000  \n",
       "154  37850000  \n",
       "166  37850000  \n",
       "116  37850000  \n",
       "\n",
       "[200 rows x 8 columns]"
      ]
     },
     "execution_count": 14,
     "metadata": {},
     "output_type": "execute_result"
    }
   ],
   "source": [
    "df.sort_values('Codigo', ascending=False) #exibe os códigos de maneira decrescente"
   ]
  },
  {
   "cell_type": "code",
   "execution_count": 15,
   "metadata": {},
   "outputs": [
    {
     "data": {
      "text/html": [
       "<div>\n",
       "<style scoped>\n",
       "    .dataframe tbody tr th:only-of-type {\n",
       "        vertical-align: middle;\n",
       "    }\n",
       "\n",
       "    .dataframe tbody tr th {\n",
       "        vertical-align: top;\n",
       "    }\n",
       "\n",
       "    .dataframe thead th {\n",
       "        text-align: right;\n",
       "    }\n",
       "</style>\n",
       "<table border=\"1\" class=\"dataframe\">\n",
       "  <thead>\n",
       "    <tr style=\"text-align: right;\">\n",
       "      <th></th>\n",
       "      <th>Id</th>\n",
       "      <th>Produto</th>\n",
       "      <th>Codigo</th>\n",
       "      <th>Quantidade</th>\n",
       "      <th>Localizacao</th>\n",
       "      <th>Situacao</th>\n",
       "      <th>Data</th>\n",
       "      <th>Valor</th>\n",
       "    </tr>\n",
       "  </thead>\n",
       "  <tbody>\n",
       "    <tr>\n",
       "      <th>72</th>\n",
       "      <td>73</td>\n",
       "      <td>Legacy 600</td>\n",
       "      <td>AE600</td>\n",
       "      <td>30</td>\n",
       "      <td>Armazém B</td>\n",
       "      <td>Disponível</td>\n",
       "      <td>22/04/2022</td>\n",
       "      <td>47700000</td>\n",
       "    </tr>\n",
       "    <tr>\n",
       "      <th>98</th>\n",
       "      <td>99</td>\n",
       "      <td>Legacy 600</td>\n",
       "      <td>AE600</td>\n",
       "      <td>30</td>\n",
       "      <td>Armazém D</td>\n",
       "      <td>Disponível</td>\n",
       "      <td>21/03/2023</td>\n",
       "      <td>47700000</td>\n",
       "    </tr>\n",
       "    <tr>\n",
       "      <th>104</th>\n",
       "      <td>105</td>\n",
       "      <td>Preator 600</td>\n",
       "      <td>AE600</td>\n",
       "      <td>30</td>\n",
       "      <td>Armazém D</td>\n",
       "      <td>Disponível</td>\n",
       "      <td>14/09/2022</td>\n",
       "      <td>49900000</td>\n",
       "    </tr>\n",
       "    <tr>\n",
       "      <th>180</th>\n",
       "      <td>181</td>\n",
       "      <td>Legacy 600</td>\n",
       "      <td>AE600</td>\n",
       "      <td>30</td>\n",
       "      <td>Armazém D</td>\n",
       "      <td>Em Produção</td>\n",
       "      <td>29/03/2023</td>\n",
       "      <td>47700000</td>\n",
       "    </tr>\n",
       "    <tr>\n",
       "      <th>193</th>\n",
       "      <td>194</td>\n",
       "      <td>Preator 600</td>\n",
       "      <td>AE600</td>\n",
       "      <td>30</td>\n",
       "      <td>Armazém A</td>\n",
       "      <td>Em Produção</td>\n",
       "      <td>14/09/2022</td>\n",
       "      <td>49900000</td>\n",
       "    </tr>\n",
       "    <tr>\n",
       "      <th>...</th>\n",
       "      <td>...</td>\n",
       "      <td>...</td>\n",
       "      <td>...</td>\n",
       "      <td>...</td>\n",
       "      <td>...</td>\n",
       "      <td>...</td>\n",
       "      <td>...</td>\n",
       "      <td>...</td>\n",
       "    </tr>\n",
       "    <tr>\n",
       "      <th>135</th>\n",
       "      <td>136</td>\n",
       "      <td>Phenom 100</td>\n",
       "      <td>AE100</td>\n",
       "      <td>1</td>\n",
       "      <td>Armazém B</td>\n",
       "      <td>Disponível</td>\n",
       "      <td>21/03/2023</td>\n",
       "      <td>37850000</td>\n",
       "    </tr>\n",
       "    <tr>\n",
       "      <th>148</th>\n",
       "      <td>149</td>\n",
       "      <td>Phenom 100</td>\n",
       "      <td>AE100</td>\n",
       "      <td>1</td>\n",
       "      <td>Armazém C</td>\n",
       "      <td>Em Produção</td>\n",
       "      <td>15/08/2022</td>\n",
       "      <td>37850000</td>\n",
       "    </tr>\n",
       "    <tr>\n",
       "      <th>151</th>\n",
       "      <td>152</td>\n",
       "      <td>Phenom 100</td>\n",
       "      <td>AE100</td>\n",
       "      <td>1</td>\n",
       "      <td>Armazém C</td>\n",
       "      <td>Obsoleto</td>\n",
       "      <td>09/07/2023</td>\n",
       "      <td>37850000</td>\n",
       "    </tr>\n",
       "    <tr>\n",
       "      <th>154</th>\n",
       "      <td>155</td>\n",
       "      <td>Phenom 100</td>\n",
       "      <td>AE100</td>\n",
       "      <td>1</td>\n",
       "      <td>Armazém A</td>\n",
       "      <td>Avariado</td>\n",
       "      <td>16/12/2023</td>\n",
       "      <td>37850000</td>\n",
       "    </tr>\n",
       "    <tr>\n",
       "      <th>166</th>\n",
       "      <td>167</td>\n",
       "      <td>Phenom 100</td>\n",
       "      <td>AE100</td>\n",
       "      <td>1</td>\n",
       "      <td>Armazém D</td>\n",
       "      <td>Avariado</td>\n",
       "      <td>08/06/2022</td>\n",
       "      <td>37850000</td>\n",
       "    </tr>\n",
       "  </tbody>\n",
       "</table>\n",
       "<p>200 rows × 8 columns</p>\n",
       "</div>"
      ],
      "text/plain": [
       "      Id      Produto Codigo  Quantidade Localizacao     Situacao        Data  \\\n",
       "72    73   Legacy 600  AE600          30   Armazém B   Disponível  22/04/2022   \n",
       "98    99   Legacy 600  AE600          30   Armazém D   Disponível  21/03/2023   \n",
       "104  105  Preator 600  AE600          30   Armazém D   Disponível  14/09/2022   \n",
       "180  181   Legacy 600  AE600          30   Armazém D  Em Produção  29/03/2023   \n",
       "193  194  Preator 600  AE600          30   Armazém A  Em Produção  14/09/2022   \n",
       "..   ...          ...    ...         ...         ...          ...         ...   \n",
       "135  136   Phenom 100  AE100           1   Armazém B   Disponível  21/03/2023   \n",
       "148  149   Phenom 100  AE100           1   Armazém C  Em Produção  15/08/2022   \n",
       "151  152   Phenom 100  AE100           1   Armazém C     Obsoleto  09/07/2023   \n",
       "154  155   Phenom 100  AE100           1   Armazém A     Avariado  16/12/2023   \n",
       "166  167   Phenom 100  AE100           1   Armazém D     Avariado  08/06/2022   \n",
       "\n",
       "        Valor  \n",
       "72   47700000  \n",
       "98   47700000  \n",
       "104  49900000  \n",
       "180  47700000  \n",
       "193  49900000  \n",
       "..        ...  \n",
       "135  37850000  \n",
       "148  37850000  \n",
       "151  37850000  \n",
       "154  37850000  \n",
       "166  37850000  \n",
       "\n",
       "[200 rows x 8 columns]"
      ]
     },
     "execution_count": 15,
     "metadata": {},
     "output_type": "execute_result"
    }
   ],
   "source": [
    "df.sort_values(['Codigo','Quantidade'], ascending=False) #exibe os valores e quantidades de maneira decrescente"
   ]
  },
  {
   "cell_type": "code",
   "execution_count": 16,
   "metadata": {},
   "outputs": [
    {
     "data": {
      "text/html": [
       "<div>\n",
       "<style scoped>\n",
       "    .dataframe tbody tr th:only-of-type {\n",
       "        vertical-align: middle;\n",
       "    }\n",
       "\n",
       "    .dataframe tbody tr th {\n",
       "        vertical-align: top;\n",
       "    }\n",
       "\n",
       "    .dataframe thead th {\n",
       "        text-align: right;\n",
       "    }\n",
       "</style>\n",
       "<table border=\"1\" class=\"dataframe\">\n",
       "  <thead>\n",
       "    <tr style=\"text-align: right;\">\n",
       "      <th></th>\n",
       "      <th>Id</th>\n",
       "      <th>Produto</th>\n",
       "      <th>Codigo</th>\n",
       "      <th>Quantidade</th>\n",
       "      <th>Localizacao</th>\n",
       "      <th>Situacao</th>\n",
       "      <th>Data</th>\n",
       "      <th>Valor</th>\n",
       "    </tr>\n",
       "  </thead>\n",
       "  <tbody>\n",
       "    <tr>\n",
       "      <th>6</th>\n",
       "      <td>7</td>\n",
       "      <td>Preator 600</td>\n",
       "      <td>AE600</td>\n",
       "      <td>1</td>\n",
       "      <td>Armazém A</td>\n",
       "      <td>Avariado</td>\n",
       "      <td>09/07/2023</td>\n",
       "      <td>49900000</td>\n",
       "    </tr>\n",
       "    <tr>\n",
       "      <th>37</th>\n",
       "      <td>38</td>\n",
       "      <td>Preator 600</td>\n",
       "      <td>AE600</td>\n",
       "      <td>1</td>\n",
       "      <td>Armazém A</td>\n",
       "      <td>Obsoleto</td>\n",
       "      <td>08/06/2022</td>\n",
       "      <td>49900000</td>\n",
       "    </tr>\n",
       "    <tr>\n",
       "      <th>193</th>\n",
       "      <td>194</td>\n",
       "      <td>Preator 600</td>\n",
       "      <td>AE600</td>\n",
       "      <td>30</td>\n",
       "      <td>Armazém A</td>\n",
       "      <td>Em Produção</td>\n",
       "      <td>14/09/2022</td>\n",
       "      <td>49900000</td>\n",
       "    </tr>\n",
       "  </tbody>\n",
       "</table>\n",
       "</div>"
      ],
      "text/plain": [
       "      Id      Produto Codigo  Quantidade Localizacao     Situacao        Data  \\\n",
       "6      7  Preator 600  AE600           1   Armazém A     Avariado  09/07/2023   \n",
       "37    38  Preator 600  AE600           1   Armazém A     Obsoleto  08/06/2022   \n",
       "193  194  Preator 600  AE600          30   Armazém A  Em Produção  14/09/2022   \n",
       "\n",
       "        Valor  \n",
       "6    49900000  \n",
       "37   49900000  \n",
       "193  49900000  "
      ]
     },
     "execution_count": 16,
     "metadata": {},
     "output_type": "execute_result"
    }
   ],
   "source": [
    "filtroCusto = df[df.Produto == 'Preator 600'] #Filtro trazendo o resultado apenas com o custo igual a Limpeza\n",
    "filtroLocalizacao = filtroCusto[filtroCusto.Localizacao == 'Armazém A'] #Dentro do custo igual a limpeza, um novo filtro com o resultado da localização igual a Armazém A.\n",
    "filtroLocalizacao #exibindo o resultado dos filtros combinados na tela"
   ]
  },
  {
   "cell_type": "code",
   "execution_count": 17,
   "metadata": {},
   "outputs": [
    {
     "data": {
      "text/html": [
       "<div>\n",
       "<style scoped>\n",
       "    .dataframe tbody tr th:only-of-type {\n",
       "        vertical-align: middle;\n",
       "    }\n",
       "\n",
       "    .dataframe tbody tr th {\n",
       "        vertical-align: top;\n",
       "    }\n",
       "\n",
       "    .dataframe thead th {\n",
       "        text-align: right;\n",
       "    }\n",
       "</style>\n",
       "<table border=\"1\" class=\"dataframe\">\n",
       "  <thead>\n",
       "    <tr style=\"text-align: right;\">\n",
       "      <th></th>\n",
       "      <th>Produto</th>\n",
       "      <th>Situacao</th>\n",
       "      <th>Localizacao</th>\n",
       "    </tr>\n",
       "  </thead>\n",
       "  <tbody>\n",
       "    <tr>\n",
       "      <th>0</th>\n",
       "      <td>E190</td>\n",
       "      <td>Obsoleto</td>\n",
       "      <td>Armazém D</td>\n",
       "    </tr>\n",
       "    <tr>\n",
       "      <th>1</th>\n",
       "      <td>EMB 314 Super Tucano</td>\n",
       "      <td>Disponível</td>\n",
       "      <td>Armazém C</td>\n",
       "    </tr>\n",
       "    <tr>\n",
       "      <th>2</th>\n",
       "      <td>Preator 600</td>\n",
       "      <td>Obsoleto</td>\n",
       "      <td>Armazém B</td>\n",
       "    </tr>\n",
       "    <tr>\n",
       "      <th>3</th>\n",
       "      <td>EMB 314 Super Tucano</td>\n",
       "      <td>Disponível</td>\n",
       "      <td>Armazém C</td>\n",
       "    </tr>\n",
       "    <tr>\n",
       "      <th>4</th>\n",
       "      <td>E195</td>\n",
       "      <td>Obsoleto</td>\n",
       "      <td>Armazém B</td>\n",
       "    </tr>\n",
       "    <tr>\n",
       "      <th>...</th>\n",
       "      <td>...</td>\n",
       "      <td>...</td>\n",
       "      <td>...</td>\n",
       "    </tr>\n",
       "    <tr>\n",
       "      <th>195</th>\n",
       "      <td>Legacy 600</td>\n",
       "      <td>Obsoleto</td>\n",
       "      <td>Armazém B</td>\n",
       "    </tr>\n",
       "    <tr>\n",
       "      <th>196</th>\n",
       "      <td>E190</td>\n",
       "      <td>Avariado</td>\n",
       "      <td>Armazém D</td>\n",
       "    </tr>\n",
       "    <tr>\n",
       "      <th>197</th>\n",
       "      <td>E195</td>\n",
       "      <td>Disponível</td>\n",
       "      <td>Armazém D</td>\n",
       "    </tr>\n",
       "    <tr>\n",
       "      <th>198</th>\n",
       "      <td>Preator 600</td>\n",
       "      <td>Avariado</td>\n",
       "      <td>Armazém B</td>\n",
       "    </tr>\n",
       "    <tr>\n",
       "      <th>199</th>\n",
       "      <td>E190</td>\n",
       "      <td>Em Produção</td>\n",
       "      <td>Armazém D</td>\n",
       "    </tr>\n",
       "  </tbody>\n",
       "</table>\n",
       "<p>200 rows × 3 columns</p>\n",
       "</div>"
      ],
      "text/plain": [
       "                  Produto     Situacao Localizacao\n",
       "0                    E190     Obsoleto   Armazém D\n",
       "1    EMB 314 Super Tucano   Disponível   Armazém C\n",
       "2             Preator 600     Obsoleto   Armazém B\n",
       "3    EMB 314 Super Tucano   Disponível   Armazém C\n",
       "4                    E195     Obsoleto   Armazém B\n",
       "..                    ...          ...         ...\n",
       "195            Legacy 600     Obsoleto   Armazém B\n",
       "196                  E190     Avariado   Armazém D\n",
       "197                  E195   Disponível   Armazém D\n",
       "198           Preator 600     Avariado   Armazém B\n",
       "199                  E190  Em Produção   Armazém D\n",
       "\n",
       "[200 rows x 3 columns]"
      ]
     },
     "execution_count": 17,
     "metadata": {},
     "output_type": "execute_result"
    }
   ],
   "source": [
    "colunasFiltradas = ['Produto','Situacao','Localizacao']\n",
    "df[colunasFiltradas]"
   ]
  }
 ],
 "metadata": {
  "kernelspec": {
   "display_name": "Python 3",
   "language": "python",
   "name": "python3"
  },
  "language_info": {
   "codemirror_mode": {
    "name": "ipython",
    "version": 3
   },
   "file_extension": ".py",
   "mimetype": "text/x-python",
   "name": "python",
   "nbconvert_exporter": "python",
   "pygments_lexer": "ipython3",
   "version": "3.12.0"
  }
 },
 "nbformat": 4,
 "nbformat_minor": 2
}
